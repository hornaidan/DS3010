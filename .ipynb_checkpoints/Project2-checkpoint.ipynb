{
 "cells": [
  {
   "cell_type": "markdown",
   "metadata": {
    "id": "e3AaPphVQtfQ"
   },
   "source": [
    "# Project 2 : Analysis of Mobile Phone Cost"
   ]
  },
  {
   "cell_type": "markdown",
   "metadata": {
    "id": "v9xFcGCJQtfS"
   },
   "source": [
    "**Start Date: 3/31/2022, Due Date: 4/18/2022, By the midnight 11:59 EST**\n",
    "\n",
    "NOTE: There are always last minute issues submitting the projects. DO NOT WAIT UNTIL THE LAST MINUTE!"
   ]
  },
  {
   "cell_type": "markdown",
   "metadata": {},
   "source": [
    "<img src=\"image.jpeg\" width=\"500\" height=\"200\" align=\"left\"/>"
   ]
  },
  {
   "cell_type": "markdown",
   "metadata": {
    "id": "0z6U9nIKQtfT"
   },
   "source": [
    "**Individual Assignment:** Please EDIT this cell and add your name\n",
    "    \n",
    "    Aidan Horn\n"
   ]
  },
  {
   "cell_type": "markdown",
   "metadata": {
    "id": "SeewMOzEQtfT"
   },
   "source": [
    "**Desired outcome of the project.**\n",
    "* In this project we will look at mobile phone cost from the dataset data.csv.\n",
    "* The idea is to *analyze* the data set, make *conjectures*, support or refute those conjectures with *data*, and *tell a story* about the data!\n",
    "\n",
    "**Data Description.**\n",
    "\n",
    "The dataset data.csv is available from our project website: https://github.com/ds3010s22/ds3010_projects, and \n",
    "is originally from Kaggle: https://www.kaggle.com/code/dansbecker/classification/data?select=train.csv\n",
    "\n",
    "The data contains 20 features including \n",
    "* battery_power: total energy a battery can store in one time measured in mAh\n",
    "* blue: has bluetooth or not \n",
    "* clock_speed: speed at which microprocessor executes instructions \n",
    "* dual_sim: has dual sim support or not\n",
    "* four_g: has 4G or not\n",
    "* etc.\n",
    "\n",
    "The target is the price range, which has 4 classes including 0 (low cost), 1 (medium cost), 2 (high cost) and 3 (very high cost).\n",
    "\n",
    "**Required Readings:** \n",
    "* This project will be based upon the scikit-learn Python library\n",
    "* Read about deep learning at https://scikit-learn.org/stable/modules/neural_networks_supervised.html\n",
    "* Read about Scikit-learn packages (LinearSVC and Logistic regression): \n",
    "    * https://scikit-learn.org/stable/modules/generated/sklearn.linear_model.LogisticRegression.html\n",
    "    * https://scikit-learn.org/stable/modules/generated/sklearn.svm.SVC.html\n",
    "\n",
    "\n",
    "**Case study assumptions:**\n",
    "* You have access to a python installation\n",
    "\n",
    "**Required Python libraries:**\n",
    "* Pandas (https://pandas.pydata.org/)\n",
    "* Numpy (www.numpy.org)\n",
    "* Matplotlib (matplotlib.org)\n",
    "* Scikit-learn (scikit-learn.org).\n",
    "\n",
    "**NOTE**\n",
    "* Please don't forget to save the notebook frequently when working in IPython Notebook, otherwise the changes you made can be lost."
   ]
  },
  {
   "cell_type": "markdown",
   "metadata": {
    "id": "WQQrXatF30aY"
   },
   "source": [
    "# Read the data."
   ]
  },
  {
   "cell_type": "markdown",
   "metadata": {},
   "source": [
    "* Read the dataset with pandas and split it into train set (80%) and test set (20%)\n",
    "* get the x_train, y_train (the features and the target for train set)\n",
    "* get the x_test, y_test (the features and the target for test set)"
   ]
  },
  {
   "cell_type": "code",
   "execution_count": 3,
   "metadata": {},
   "outputs": [],
   "source": [
    "import pandas as pd\n",
    "from sklearn.model_selection import train_test_split\n",
    "data = pd.read_csv('data.csv')\n",
    "y = data['price_range']\n",
    "X = data.drop('price_range', axis=1)\n",
    "x_train, x_test, y_train, y_test = train_test_split(X, y, test_size=0.2, random_state=0)"
   ]
  },
  {
   "cell_type": "markdown",
   "metadata": {
    "id": "jVWQAJmsQtfW"
   },
   "source": [
    "## Problem 1 (20 points): Machine learning algorithms\n"
   ]
  },
  {
   "cell_type": "markdown",
   "metadata": {
    "id": "PNt6Ue6-QtfW"
   },
   "source": [
    "* Examine two classifiers provided by scikit-learn \n",
    "    * LinearSVC\n",
    "    * Logistic regression\n",
    "* For a particular choice of parameters and classifier, look at 2 examples where the prediction was incorrect.\n",
    "    * Can you conjecture on why the classifier made a mistake for this prediction?"
   ]
  },
  {
   "cell_type": "code",
   "execution_count": null,
   "metadata": {
    "collapsed": true,
    "id": "m945iZIxQtfW"
   },
   "outputs": [],
   "source": []
  },
  {
   "cell_type": "markdown",
   "metadata": {
    "id": "BoicR0YeQx5x"
   },
   "source": [
    "## Problem 2 (20 points): Use a Multi-Layer Perceptron (MLP) for classifying the costs.  Explore the parameters for the MLP and compare the accuracies against your algorithms in Problem 1.\n",
    "\n",
    "**Read the documentation for the MLPClassifier class at https://scikit-learn.org/stable/modules/generated/sklearn.neural_network.MLPClassifier.html#sklearn.neural_network.MLPClassifier.** \n",
    "* Note: This is *very similar* to using the LinearSVC and Logistic regression classes above!\n",
    "* Try different values for \"hidden_layer_sizes\".  What do you observe in terms of accuracy?\n",
    "* Try different values for \"activation\". What do you observe in terms of accuracy?\n"
   ]
  },
  {
   "cell_type": "code",
   "execution_count": null,
   "metadata": {
    "id": "LaDYg8XNQx5y"
   },
   "outputs": [],
   "source": []
  },
  {
   "cell_type": "markdown",
   "metadata": {
    "id": "_G65MbRfQx5y"
   },
   "source": [
    "## Problem 3 (20 points): Running time also matters!  How fast are the algorithms versus their accuracy?\n",
    "**Compare the runtime of the algorithms in Problem 1 to the running time of the MLPClassifier** \n",
    "\n",
    "**The jupyter command %timeit can be used to measure how long a calculation takes https://ipython.readthedocs.io/en/stable/interactive/magics.html.**\n",
    "* Try different values for \"hidden_layer_sizes\".  What do you observe in terms of runtime?\n",
    "* Try different values for \"activation\". What do you observe in terms of runtime?\n",
    "* How long does the \"fit\" function take as opposed to the \"predict\" function?  Can you explain why?"
   ]
  },
  {
   "cell_type": "code",
   "execution_count": null,
   "metadata": {
    "id": "Smz1f8tyQtfX"
   },
   "outputs": [],
   "source": []
  },
  {
   "cell_type": "markdown",
   "metadata": {
    "collapsed": true,
    "id": "o0bcrrUzQtfX"
   },
   "source": [
    "\n",
    "## Problem 4 (20 points): Business question"
   ]
  },
  {
   "cell_type": "markdown",
   "metadata": {
    "id": "j8VZdOxfQtfX"
   },
   "source": [
    "* Suppose you had a machine learning algorithm that could estimate the mobile phone costs. What kind of business could you build around that?\n",
    "* Who would be your customers?\n",
    "* In addition, assume that your machine learning was slow to train, but fast in making predictions on new data. How would that affect your business plan?\n"
   ]
  },
  {
   "cell_type": "code",
   "execution_count": null,
   "metadata": {
    "id": "d-g3psMyQtfX"
   },
   "outputs": [],
   "source": []
  },
  {
   "cell_type": "markdown",
   "metadata": {
    "id": "EhHQoH_KQtfX"
   },
   "source": [
    "# Slides (for a 5-8 minute presentation) (20 points)\n",
    "\n",
    "\n",
    "1. (5 points) Motivation about the data collection, why the topic is interesting to you. \n",
    "\n",
    "2. (10 points) Communicating Results (figure/table)\n",
    "\n",
    "3. (5 points) Story telling (How all the parts (data, analysis, result) fit together as a story?)"
   ]
  },
  {
   "cell_type": "markdown",
   "metadata": {
    "id": "kl5sy8EUQtfY"
   },
   "source": [
    "\n",
    "# Done\n",
    "\n",
    "All set! \n",
    "\n",
    "**What do you need to submit?**\n",
    "\n",
    "* **Notebook File**: Save this IPython notebook, and find the notebook file in your folder (for example, \"filename.ipynb\"). This is the file you need to submit. Please make sure all the plotted tables and figures are in the notebook. If you used \"ipython notebook --pylab=inline\" to open the notebook, all the figures and tables should have shown up in the notebook.\n",
    "\n",
    "\n",
    "* **PPT Slides**: please prepare PPT slides (for 10 minutes' talk) to present about the project. We will ask two students which are randomly selected to present their results in class for this project. \n",
    "\n",
    "* **Report**: please prepare a report (less than 10 pages) to report what you found in the data.\n",
    "    * What data you collected? \n",
    "    * Why this topic is interesting or important to you? (Motivations)\n",
    "    * How did you analyse the data?\n",
    "    * What did you find in the data? \n",
    " \n",
    "     (please include figures or tables in the report, but no source code)\n",
    "\n",
    "\n",
    "*Please compress all the files into a single zipped file.*\n",
    "\n",
    "\n",
    "**How to submit:**\n",
    "\n",
    "        Please submit in canvas"
   ]
  },
  {
   "cell_type": "markdown",
   "metadata": {
    "collapsed": true,
    "id": "HylAvN1gQtfY"
   },
   "source": [
    "# Grading Criteria:\n",
    "\n",
    "**Total Points: 100**\n",
    "\n",
    "\n",
    "---------------------------------------------------------------------------\n",
    "**Notebook results:**\n",
    "    Points: 80\n",
    "        \n",
    "    -----------------------------------\n",
    "    Question 1:\n",
    "    Points: 20 \n",
    "    -----------------------------------\n",
    "  \n",
    "    -----------------------------------\n",
    "    Question 2:  \n",
    "    Points: 20\n",
    "    -----------------------------------\n",
    "\n",
    "    -----------------------------------\n",
    "    Question 3:  \n",
    "    Points: 20\n",
    "    -----------------------------------\n",
    "\n",
    "    -----------------------------------\n",
    "    Question 4:  \n",
    "    Points: 20\n",
    "    -----------------------------------\n",
    "\n",
    "---------------------------------------------------------------------------\n",
    "**Slides (for a 5-8 minute presentation): Story-telling**\n",
    "    Points: 20\n",
    "\n",
    "\n",
    "1. Motivation about the data collection, why the topic is interesting to you.\n",
    "    Points: 5 \n",
    "\n",
    "2. Communicating Results (figure/table)\n",
    "    Points: 10 \n",
    "\n",
    "3. Story telling (How all the parts (data, analysis, result) fit together as a story?)\n",
    "    Points: 5 \n"
   ]
  },
  {
   "cell_type": "code",
   "execution_count": null,
   "metadata": {
    "id": "ch582GFeQtfY"
   },
   "outputs": [],
   "source": []
  }
 ],
 "metadata": {
  "colab": {
   "name": "CaseStudy3.ipynb",
   "provenance": []
  },
  "kernel_info": {
   "name": "python3"
  },
  "kernelspec": {
   "display_name": "Python 3",
   "language": "python",
   "name": "python3"
  },
  "language_info": {
   "codemirror_mode": {
    "name": "ipython",
    "version": 3
   },
   "file_extension": ".py",
   "mimetype": "text/x-python",
   "name": "python",
   "nbconvert_exporter": "python",
   "pygments_lexer": "ipython3",
   "version": "3.7.4"
  },
  "nteract": {
   "version": "0.2.0"
  }
 },
 "nbformat": 4,
 "nbformat_minor": 1
}
